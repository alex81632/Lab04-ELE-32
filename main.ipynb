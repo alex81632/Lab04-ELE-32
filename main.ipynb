{
 "cells": [
  {
   "cell_type": "markdown",
   "metadata": {},
   "source": [
    "# Lab 04 - ELE-32\n",
    "\n",
    "## Alexandre Bellargus e Pedro Igor"
   ]
  },
  {
   "cell_type": "markdown",
   "metadata": {},
   "source": [
    "### Imports"
   ]
  },
  {
   "cell_type": "code",
   "execution_count": 1,
   "metadata": {},
   "outputs": [],
   "source": [
    "import random\n",
    "import numpy as np\n",
    "import matplotlib.pyplot as plt"
   ]
  },
  {
   "cell_type": "markdown",
   "metadata": {},
   "source": [
    "### Classes Auxiliares"
   ]
  },
  {
   "cell_type": "code",
   "execution_count": 2,
   "metadata": {},
   "outputs": [],
   "source": [
    "class VNode:\n",
    "    def __init__(self, index):\n",
    "        self.index = index\n",
    "        self.edges = []\n",
    "        self.value = 0\n",
    "\n",
    "class CNode:\n",
    "    def __init__(self, index):\n",
    "        self.index = index\n",
    "        self.edges = []\n",
    "    \n",
    "class Edge:\n",
    "    def __init__(self, cnode, vnode):\n",
    "        self.cnode = cnode\n",
    "        self.vnode = vnode\n",
    "        self.val = 0"
   ]
  },
  {
   "cell_type": "markdown",
   "metadata": {},
   "source": [
    "### Hammimg"
   ]
  },
  {
   "cell_type": "code",
   "execution_count": 10,
   "metadata": {},
   "outputs": [],
   "source": [
    "class Hamming:\n",
    "    def __init__(self):\n",
    "        self.G =[[1, 0, 0, 0, 1, 1, 1],\n",
    "                 [0, 1, 0, 0, 1, 0, 1],\n",
    "                 [0, 0, 1, 0, 1, 1, 0],\n",
    "                 [0, 0, 0, 1, 0, 1, 1]]\n",
    "        self.HT = [[1,1,1],\n",
    "                   [1,0,1],\n",
    "                   [1,1,0],\n",
    "                   [0,1,1],\n",
    "                   [1,0,0],\n",
    "                   [0,1,0],\n",
    "                   [0,0,1]]\n",
    "\n",
    "    def codify(self, u):\n",
    "        val = np.matmul(u, self.G)\n",
    "        for i in range(len(val)):\n",
    "            if val[i] % 2 == 0:\n",
    "                val[i] = 0\n",
    "            else:\n",
    "                val[i] = 1\n",
    "        return val\n",
    "    \n",
    "    def decodify(self, r):\n",
    "        self.s = np.matmul(r, self.HT)\n",
    "        for i in range(len(self.s)):\n",
    "            if self.s[i] % 2 == 0:\n",
    "                self.s[i] = 0\n",
    "            else:\n",
    "                self.s[i] = 1\n",
    "        \n",
    "        for i in range(len(self.HT)):\n",
    "            if((self.s == self.HT[i]).all()):\n",
    "                r[i] = (r[i]+1)%2\n",
    "                break\n",
    "\n",
    "        return r"
   ]
  },
  {
   "cell_type": "markdown",
   "metadata": {},
   "source": [
    "### BitFlipping"
   ]
  },
  {
   "cell_type": "code",
   "execution_count": null,
   "metadata": {},
   "outputs": [],
   "source": [
    "class BitFlipping:\n",
    "    def __init__(self, N, M, Vnodes, CNodes):\n",
    "        self.N = N\n",
    "        self.M = M\n",
    "        self.VNodes = Vnodes\n",
    "        self.CNodes = CNodes\n",
    "        self.max_iter = 50\n",
    "\n",
    "    def decode(self, u):\n",
    "        for i in range(self.N):\n",
    "            self.VNodes[i].value = u[i]\n",
    "        for i in range(self.max_iter):\n",
    "            erros = [[0, y] for y in range(self.N)]\n",
    "            for j in range(self.M):\n",
    "                parity = 0\n",
    "                for node in self.CNodes[j].vnodes:\n",
    "                    parity += node.value\n",
    "                if(parity%2 != 0):\n",
    "                    for y in range(len(self.CNodes[j].vnodes)):\n",
    "                        erros[self.CNodes[j].vnodes[y].index][0] += 1\n",
    "\n",
    "            erros.sort(key = lambda err: err[0], reverse=True)\n",
    "            if(erros[0][0] == 0):\n",
    "                break\n",
    "            self.VNodes[erros[0][1]].value = (self.VNodes[erros[0][1]].value + 1) % 2\n",
    "        for i in range(self.N):\n",
    "            u[i] = self.VNodes[i].value\n",
    "        return u    "
   ]
  },
  {
   "cell_type": "markdown",
   "metadata": {},
   "source": [
    "### Belief Propagation"
   ]
  },
  {
   "cell_type": "code",
   "execution_count": 14,
   "metadata": {},
   "outputs": [],
   "source": [
    "class BeliefPropagation:\n",
    "    def __init__(self):\n",
    "        self.max_iter = 10\n",
    "    \n",
    "    def beliefPropagation(self, L, VNodes, CNodes):\n",
    "        for v in VNodes:\n",
    "            for e in v.edges:\n",
    "                e.val = 0\n",
    "        for i in range(len(L)):\n",
    "            VNodes[i].value = L[i]\n",
    "\n",
    "        for _ in range(self.max_iter):\n",
    "\n",
    "            # VNodes belief propagation\n",
    "            for vnode in VNodes:\n",
    "                sum = vnode.value\n",
    "                for edge in vnode.edges:\n",
    "                    sum += edge.val\n",
    "                for edge in vnode.edges:\n",
    "                    edge.val = sum - edge.val\n",
    "\n",
    "            # Stop condition\n",
    "            if(self.stopCondition(CNodes)):\n",
    "                break\n",
    "\n",
    "            # CNodes belief propagation\n",
    "            for cnode in CNodes:\n",
    "                min = np.Inf\n",
    "                second_min = np.Inf\n",
    "                prod = 1\n",
    "                for edge in cnode.edges:\n",
    "                    prod *= edge.val\n",
    "                    if abs(edge.val) <= min:\n",
    "                        second_min = min\n",
    "                        min = abs(edge.val)\n",
    "                    elif abs(edge.val) < second_min:\n",
    "                        second_min = abs(edge.val)\n",
    "\n",
    "                for edge in cnode.edges:\n",
    "                    if abs(edge.val) == min:\n",
    "                        edge.val = np.sign(prod * edge.val) * second_min\n",
    "                    else:\n",
    "                        edge.val = np.sign(prod *edge.val) * min\n",
    "\n",
    "        # Decode\n",
    "        r = []\n",
    "        for vnode in VNodes:\n",
    "            sum = vnode.value\n",
    "            for edge in vnode.edges:\n",
    "                sum += edge.val\n",
    "            r.append(0 if sum >= 0 else 1)\n",
    "\n",
    "        return r\n",
    "    \n",
    "    def stopCondition(self, CNodes):\n",
    "        allPositive = True\n",
    "        for cnode in CNodes:\n",
    "            prod = 1\n",
    "            for edge in cnode.edges:\n",
    "                prod *= edge.val\n",
    "            if(prod < 0):\n",
    "                allPositive = False\n",
    "                break\n",
    "\n",
    "        return allPositive"
   ]
  },
  {
   "cell_type": "markdown",
   "metadata": {},
   "source": [
    "### LDPC Class"
   ]
  },
  {
   "cell_type": "code",
   "execution_count": 4,
   "metadata": {},
   "outputs": [],
   "source": [
    "class LDPC:\n",
    "    def __init__(self, N, dv, dc):\n",
    "        self.N = N\n",
    "        self.dv = dv\n",
    "        self.dc = dc\n",
    "        self.M = (N*dv)//dc\n",
    "        self.VNodes = [VNode(i) for i in range(self.N)]\n",
    "        self.CNodes = [CNode(i) for i in range(self.M)]\n",
    "        self.H = []\n",
    "        self.generateLDPCCode()\n",
    "        self.H = np.array(self.H)\n",
    "        # self.exportHtoCSV()\n",
    "\n",
    "    def cols_to_rows(self, h):\n",
    "        h2 = []\n",
    "        for i in range(len(h[0])):\n",
    "            h1 = []\n",
    "            for j in range(len(h)):\n",
    "                h1.append(h[j][i])\n",
    "            h2.append(h1)\n",
    "        return h2\n",
    "\n",
    "    def generateLDPCCode(self):\n",
    "        h = self.M//self.dv\n",
    "        h1 = []\n",
    "        for i in range(self.N):\n",
    "            v1 = [0]*h\n",
    "            v1[i//self.dc] = 1\n",
    "            h1.append(v1)\n",
    "\n",
    "        for i in range(self.dv):\n",
    "            ht = self.cols_to_rows(h1)\n",
    "            for elem in ht:\n",
    "                self.H.append(elem)\n",
    "            # shuffle h collumns\n",
    "            random.shuffle(h1)\n",
    "        \n",
    "        for i in range(self.N):\n",
    "            for j in range(self.M):\n",
    "                if(self.H[j][i] == 1):\n",
    "                    edge = Edge(self.CNodes[j], self.VNodes[i])\n",
    "                    self.CNodes[j].edges.append(edge)\n",
    "                    self.VNodes[i].edges.append(edge)\n",
    "\n",
    "    def exportHtoCSV(self):\n",
    "        data = []\n",
    "        for j in range(len(self.H[0])):\n",
    "            line = []\n",
    "            for i in range(len(self.H)):\n",
    "                if(self.H[i][j] == 1):\n",
    "                    line.append(i+1)\n",
    "            data.append(line)\n",
    "        # save as integers\n",
    "        np.savetxt('H.csv', data, fmt='%i', delimiter=',')"
   ]
  },
  {
   "cell_type": "markdown",
   "metadata": {},
   "source": [
    "### Canal Gaussiano"
   ]
  },
  {
   "cell_type": "code",
   "execution_count": 5,
   "metadata": {},
   "outputs": [],
   "source": [
    "class CanalGauss:\n",
    "    def __init__(self, eb_n0):\n",
    "        self.sigma2 = 1/(2*eb_n0)\n",
    "        self.max_iter = 10\n",
    "    \n",
    "    def canal(self, v):\n",
    "        r = []\n",
    "        for i in range(len(v)):\n",
    "            if(v[i] == 0):\n",
    "                v[i] = 1\n",
    "            else:\n",
    "                v[i] = -1\n",
    "            r.append(v[i] + np.random.normal(0, np.sqrt(self.sigma2)))            \n",
    "        return r\n",
    "    \n",
    "    def LLR(self, r):\n",
    "        L = []\n",
    "        for i in range(len(r)):\n",
    "            L.append(2*r[i]/self.sigma2)\n",
    "        return L"
   ]
  },
  {
   "cell_type": "markdown",
   "metadata": {},
   "source": [
    "### Aplicação"
   ]
  },
  {
   "cell_type": "code",
   "execution_count": 11,
   "metadata": {},
   "outputs": [],
   "source": [
    "dbs = [0.0, 0.5, 1.0, 1.1, 1.2, 1.3, 1.4, 1.5, 2.0, 2.5, 3.0, 3.5, 4.0, 4.5, 5.0]\n",
    "n = 1000\n",
    "ldpc = LDPC(n, 5, 10)"
   ]
  },
  {
   "cell_type": "code",
   "execution_count": 17,
   "metadata": {},
   "outputs": [
    {
     "name": "stdout",
     "output_type": "stream",
     "text": [
      "db:  0.0 erro:  0.055721\n",
      "db:  0.5 erro:  0.00761\n",
      "db:  1.0 erro:  0.000103\n",
      "db:  1.1 erro:  0.0\n",
      "db:  1.2 erro:  0.0\n",
      "db:  1.3 erro:  0.0\n",
      "db:  1.4 erro:  0.0\n",
      "db:  1.5 erro:  0.0\n",
      "db:  2.0 erro:  0.0\n",
      "db:  2.5 erro:  0.0\n",
      "db:  3.0 erro:  0.0\n",
      "db:  3.5 erro:  0.0\n",
      "db:  4.0 erro:  0.0\n",
      "db:  4.5 erro:  0.0\n",
      "db:  5.0 erro:  0.0\n"
     ]
    }
   ],
   "source": [
    "s = 1000\n",
    "codedErros = []\n",
    "makeCoded = True\n",
    "for db in dbs:\n",
    "    undErr = 0\n",
    "    decErr = 0\n",
    "    canalGauss = CanalGauss(10**(db/10))\n",
    "    beliefProp = BeliefPropagation()\n",
    "    for k in range(s):\n",
    "        v = [0]*n\n",
    "        r = canalGauss.canal(v)\n",
    "        if makeCoded:\n",
    "            L = canalGauss.LLR(r)\n",
    "            o = beliefProp.beliefPropagation(L, ldpc.VNodes, ldpc.CNodes)\n",
    "            decErr += sum(o)\n",
    "        else:\n",
    "            break\n",
    "    \n",
    "    if(decErr == 0):\n",
    "        makeCoded = False\n",
    "    codedErros.append(decErr/(n*s))\n",
    "    print(\"db: \", db, \"erro: \", decErr/(n*s))"
   ]
  },
  {
   "cell_type": "code",
   "execution_count": 15,
   "metadata": {},
   "outputs": [
    {
     "name": "stdout",
     "output_type": "stream",
     "text": [
      "db:  0.0 erro:  0.078945\n",
      "db:  0.5 erro:  0.067011\n",
      "db:  1.0 erro:  0.055882\n",
      "db:  1.1 erro:  0.054597\n",
      "db:  1.2 erro:  0.052182\n",
      "db:  1.3 erro:  0.050207\n",
      "db:  1.4 erro:  0.048326\n",
      "db:  1.5 erro:  0.046527\n",
      "db:  2.0 erro:  0.037179\n",
      "db:  2.5 erro:  0.029834\n",
      "db:  3.0 erro:  0.022657\n",
      "db:  3.5 erro:  0.017165\n",
      "db:  4.0 erro:  0.01261\n",
      "db:  4.5 erro:  0.008844\n",
      "db:  5.0 erro:  0.005986\n"
     ]
    }
   ],
   "source": [
    "s = 1000\n",
    "undecodedErros = []\n",
    "for db in dbs:\n",
    "    undErr = 0\n",
    "    canalGauss = CanalGauss(10**(db/10))\n",
    "    for k in range(s):\n",
    "        v = [0]*n\n",
    "        r = canalGauss.canal(v)\n",
    "        c = [0 if r[i] >= 0 else 1 for i in range(len(r))]\n",
    "        undErr += sum(c)\n",
    "        \n",
    "    undecodedErros.append(undErr/(n*s))\n",
    "    print(\"db: \", db, \"erro: \", undErr/(n*s))"
   ]
  },
  {
   "cell_type": "code",
   "execution_count": 16,
   "metadata": {},
   "outputs": [
    {
     "data": {
      "image/png": "[encoded data removed]",
      "text/plain": [
       "<Figure size 800x600 with 1 Axes>"
      ]
     },
     "metadata": {},
     "output_type": "display_data"
    }
   ],
   "source": [
    "# Configurando o tamanho do gráfico\n",
    "plt.figure(figsize=(8, 6))\n",
    "\n",
    "# Plotando os dados\n",
    "plt.plot(dbs, undecodedErros, marker='o', label='Undecoded')\n",
    "plt.plot(dbs, codedErros, marker='o', label='LDPC')\n",
    "plt.yscale(\"log\") \n",
    "\n",
    "# Configurando o título e os rótulos dos eixos\n",
    "plt.title('Gráfico Pb x Eb/N0 (db)')\n",
    "plt.xlabel('Eb/N0 (db)')\n",
    "plt.ylabel('Bit Error Rate')\n",
    "\n",
    "# Adicionando a legenda\n",
    "plt.legend()\n",
    "\n",
    "plt.ylim([0.00001, 0.1])\n",
    "\n",
    "# Exibindo o gráfico\n",
    "plt.grid(True)\n",
    "plt.show()"
   ]
  },
  {
   "cell_type": "markdown",
   "metadata": {},
   "source": [
    "#### Maior Valor de E0/N0 que da erro menor que 10^(-4)"
   ]
  },
  {
   "cell_type": "markdown",
   "metadata": {},
   "source": [
    "Nota-se que o valor deve estar entre 1 e 1.5"
   ]
  },
  {
   "cell_type": "code",
   "execution_count": 9,
   "metadata": {},
   "outputs": [
    {
     "name": "stdout",
     "output_type": "stream",
     "text": [
      "db:  1.09 erro:  0.000105\n",
      "db:  1.1 erro:  8.24e-05\n",
      "db:  1.11 erro:  7.31e-05\n",
      "db:  1.12 erro:  7.63e-05\n"
     ]
    }
   ],
   "source": [
    "s = 10000\n",
    "dbs = [1.09, 1.1, 1.11, 1.12]\n",
    "for db in dbs:\n",
    "    canalGauss = CanalGauss(10**(db/10))\n",
    "    undErr = 0\n",
    "    decErr = 0\n",
    "    for k in range(s):\n",
    "        v = [0]*n\n",
    "        r = canalGauss.canal(v)\n",
    "        L = canalGauss.LLR(r)\n",
    "        o = canalGauss.beliefPropagation(L, ldpc.VNodes, ldpc.CNodes)\n",
    "        decErr += sum(o)    \n",
    "    \n",
    "    print(\"db: \", db, \"erro: \", decErr/(n*s))"
   ]
  }
 ],
 "metadata": {
  "kernelspec": {
   "display_name": "base",
   "language": "python",
   "name": "python3"
  },
  "language_info": {
   "codemirror_mode": {
    "name": "ipython",
    "version": 3
   },
   "file_extension": ".py",
   "mimetype": "text/x-python",
   "name": "python",
   "nbconvert_exporter": "python",
   "pygments_lexer": "ipython3",
   "version": "3.11.7"
  }
 },
 "nbformat": 4,
 "nbformat_minor": 2
}
